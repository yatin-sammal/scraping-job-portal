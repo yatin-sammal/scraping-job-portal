{
 "cells": [
  {
   "cell_type": "markdown",
   "metadata": {},
   "source": [
    "# Scarping Freshersworld Jobs Data Using Python\n",
    "![Banner-image](https://i.imgur.com/ZTu9Y0K.png)"
   ]
  },
  {
   "cell_type": "markdown",
   "metadata": {},
   "source": [
    "Freshersworld.com (A TeamLease Company) is No.1 job Portal for freshers hiring in India with a database of over 1.5+ Crore resumes. More than 3 Lakh+ resumes are added every month from entry level graduates across the country\n",
    "\n",
    "The page https://www.freshersworld.com/ provides thousands of jobs in various streams. In this assignment, we will retrieve information for different job profiles using web_scraping: the process of extracting information from a website in an automated fashion using code. We will use [Requests](https://docs.python-requests.org/en/latest/) and [BeautifulSoup](https://www.crummy.com/software/BeautifulSoup/bs4/doc/) to scrap data from this page.\n",
    "\n",
    "The outline of this assignment is listed below:\n",
    "\n",
    "1. Download the webpage using [Requests](https://docs.python-requests.org/en/latest/)\n",
    "2. Parse the HTML source code using [BeautifulSoup](https://www.crummy.com/software/BeautifulSoup/bs4/doc/)\n",
    "3. Extract Company name, Job location, Apply link, Required qualification, Experience required, Last date\n",
    "4. Compile extracted information using Python lists\n",
    "5. Save the extracted information to a CSV file.\n",
    "\n",
    "The CSV file which will be created will have the following format:\n",
    "```\n",
    " job role,company name,job location,required qualification,experience required,last date,apply link\n",
    " Data Analyst,CAW Studios,Hyderabad/Bangalore,BE/B.Tech/ME/M.Tech/CS/MS,2 Years,26 Feb 23,https://www.freshersworld.com/jobs/data-analyst-jobs-opening-in-caw-studios-at-gachibowli-bangalore-hyderabad-1667559\n",
    " ....\n",
    "```\n"
   ]
  },
  {
   "cell_type": "markdown",
   "metadata": {},
   "source": [
    "## How to run the code\n",
    "\n",
    "You can execute the code using the \"Run on Binder\" button at the top of this page. You can make changes and save your own version of the notebook to [Jovian](https://jovian.ai/)."
   ]
  },
  {
   "cell_type": "code",
   "execution_count": 1,
   "metadata": {},
   "outputs": [],
   "source": [
    "!pip install jovian --upgrade --quiet"
   ]
  },
  {
   "cell_type": "code",
   "execution_count": 2,
   "metadata": {},
   "outputs": [],
   "source": [
    "import jovian"
   ]
  },
  {
   "cell_type": "code",
   "execution_count": 3,
   "metadata": {},
   "outputs": [],
   "source": [
    "project_name = \"scraping-job-portal\""
   ]
  },
  {
   "cell_type": "code",
   "execution_count": 4,
   "metadata": {},
   "outputs": [
    {
     "data": {
      "application/javascript": [
       "window.require && require([\"base/js/namespace\"],function(Jupyter){Jupyter.notebook.save_checkpoint()})"
      ],
      "text/plain": [
       "<IPython.core.display.Javascript object>"
      ]
     },
     "metadata": {},
     "output_type": "display_data"
    },
    {
     "name": "stdout",
     "output_type": "stream",
     "text": [
      "[jovian] Updating notebook \"yatinsammal/scraping-job-portal\" on https://jovian.com\u001b[0m\n",
      "[jovian] Committed successfully! https://jovian.com/yatinsammal/scraping-job-portal\u001b[0m\n"
     ]
    },
    {
     "data": {
      "text/plain": [
       "'https://jovian.com/yatinsammal/scraping-job-portal'"
      ]
     },
     "execution_count": 4,
     "metadata": {},
     "output_type": "execute_result"
    }
   ],
   "source": [
    "jovian.commit(project = project_name)"
   ]
  },
  {
   "cell_type": "markdown",
   "metadata": {},
   "source": [
    "## Download the webpage using `requests`\n",
    "\n",
    "We can use the `requests` library to download the webpage.\n",
    "\n",
    "The library can be installed using `pip`."
   ]
  },
  {
   "cell_type": "code",
   "execution_count": 5,
   "metadata": {},
   "outputs": [],
   "source": [
    "!pip install requests --upgrade --quiet"
   ]
  },
  {
   "cell_type": "code",
   "execution_count": 6,
   "metadata": {},
   "outputs": [],
   "source": [
    "import requests"
   ]
  },
  {
   "cell_type": "markdown",
   "metadata": {},
   "source": [
    "To download a page, we can use the `get` function from requests, which returns the response object. "
   ]
  },
  {
   "cell_type": "code",
   "execution_count": 7,
   "metadata": {},
   "outputs": [],
   "source": [
    "job_search_url = 'https://www.freshersworld.com/'\n",
    "response = requests.get(job_search_url)"
   ]
  },
  {
   "cell_type": "markdown",
   "metadata": {},
   "source": [
    "`requests.get` returns a response object containing the data from the webpage and some other information.\n",
    "\n",
    "The `.status_code` property can be used to check if the request was successful.A successful response will have an HTTPstatus code between 200 and 209."
   ]
  },
  {
   "cell_type": "code",
   "execution_count": 8,
   "metadata": {},
   "outputs": [
    {
     "data": {
      "text/plain": [
       "200"
      ]
     },
     "execution_count": 8,
     "metadata": {},
     "output_type": "execute_result"
    }
   ],
   "source": [
    "response.status_code"
   ]
  },
  {
   "cell_type": "markdown",
   "metadata": {},
   "source": [
    "Let us check the number of characters in the webpage."
   ]
  },
  {
   "cell_type": "code",
   "execution_count": 9,
   "metadata": {},
   "outputs": [
    {
     "data": {
      "text/plain": [
       "504944"
      ]
     },
     "execution_count": 9,
     "metadata": {},
     "output_type": "execute_result"
    }
   ],
   "source": [
    "page_contents = response.text\n",
    "len(page_contents)"
   ]
  },
  {
   "cell_type": "markdown",
   "metadata": {},
   "source": [
    "The webpage contains over 14,000 characters. Here are the first 1000 characters of the page:"
   ]
  },
  {
   "cell_type": "code",
   "execution_count": 10,
   "metadata": {},
   "outputs": [
    {
     "data": {
      "text/plain": [
       "'<!DOCTYPE html><html lang=\"en\"><head prefix=\"og: http://ogp.me/ns#\"><!-- Google Tag Manager --><script>(function(w,d,s,l,i){w[l]=w[l]||[];w[l].push({\\'gtm.start\\':\\nnew Date().getTime(),event:\\'gtm.js\\'});var f=d.getElementsByTagName(s)[0],\\nj=d.createElement(s),dl=l!=\\'dataLayer\\'?\\'&l=\\'+l:\\'\\';j.async=true;j.src=\\n\\'https://www.googletagmanager.com/gtm.js?id=\\'+i+dl;f.parentNode.insertBefore(j,f);\\n})(window,document,\\'script\\',\\'dataLayer\\',\\'GTM-5S37R5T\\');</script><!-- End Google Tag Manager --><meta charset=\"UTF-8\"><meta http-equiv=\"X-UA-Compatible\" content=\"IE=edge\"><title>Jobs: Search Jobs In India, Freshers Jobs Online, Govt Jobs, Recruitment | Freshersworld.com</title><link href=\"/manifest.json\" rel=\"manifest\"><meta property=\"og:type\" content=\"website\" /><meta property=\"og:url\" content=\"https://www.freshersworld.com/\" /><meta property=\"og:title\" content=\"Jobs: Search Jobs In India, Freshers Jobs Online, Govt Jobs, Recruitment | Freshersworld.com\" /><meta name=\"robots\" content=\"INDEX,FOLLOW\" /><me'"
      ]
     },
     "execution_count": 10,
     "metadata": {},
     "output_type": "execute_result"
    }
   ],
   "source": [
    "page_contents[:1000]"
   ]
  },
  {
   "cell_type": "markdown",
   "metadata": {},
   "source": [
    "The above code is the [HTML source code](https://en.wikipedia.org/wiki/HTML) of the webpage. We can also save it to a file and view locally within Jupyter using \"File -> Open\"."
   ]
  },
  {
   "cell_type": "code",
   "execution_count": 11,
   "metadata": {},
   "outputs": [],
   "source": [
    "with open('webpage.html','w') as f:\n",
    "    f.write(page_contents)"
   ]
  },
  {
   "cell_type": "markdown",
   "metadata": {},
   "source": [
    "The page looks similiar to the original but none of the links will work in this webpage.\n",
    "\n",
    "![](https://i.imgur.com/fh31xcS.png)\n",
    "\n",
    "In this section, we have successfully used the `requests` library to download a webpage as HTML."
   ]
  },
  {
   "cell_type": "markdown",
   "metadata": {},
   "source": [
    "## Parse the HTML source code using `beautiful soup`"
   ]
  },
  {
   "cell_type": "markdown",
   "metadata": {},
   "source": [
    "We can use the `BeautifulSoup` module from `bs4` library to parse the html code which was obtained using the `requests` library.\n",
    "\n",
    "The library can be installed using `pip`."
   ]
  },
  {
   "cell_type": "code",
   "execution_count": 12,
   "metadata": {},
   "outputs": [],
   "source": [
    "!pip install beautifulsoup4 --upgrade --quiet"
   ]
  },
  {
   "cell_type": "code",
   "execution_count": 13,
   "metadata": {},
   "outputs": [],
   "source": [
    "from bs4 import BeautifulSoup"
   ]
  },
  {
   "cell_type": "markdown",
   "metadata": {},
   "source": [
    "To parse HTML contents of a webpage, we can pass the HTML contents to the `BeautifulSoup` class along with indication of `html parser` which returns a bs4 object. "
   ]
  },
  {
   "cell_type": "code",
   "execution_count": 14,
   "metadata": {},
   "outputs": [],
   "source": [
    "doc = BeautifulSoup(page_contents,'html.parser')"
   ]
  },
  {
   "cell_type": "code",
   "execution_count": 15,
   "metadata": {},
   "outputs": [
    {
     "data": {
      "text/plain": [
       "<title>Jobs: Search Jobs In India, Freshers Jobs Online, Govt Jobs, Recruitment | Freshersworld.com</title>"
      ]
     },
     "execution_count": 15,
     "metadata": {},
     "output_type": "execute_result"
    }
   ],
   "source": [
    "doc.title"
   ]
  },
  {
   "cell_type": "markdown",
   "metadata": {},
   "source": [
    "We can now combine this step and the previous step to write a function that takes the blog_search_url variable as an argument which returns a `bs4` object which can be later used for scraping the required information.\n",
    "\n",
    "Let's see the title of the `BeautifulSoup` doc using the webpage URL."
   ]
  },
  {
   "cell_type": "code",
   "execution_count": 16,
   "metadata": {},
   "outputs": [],
   "source": [
    "def get_pages(url):\n",
    "    \"\"\"Download a webpage and return a BeautifulSoup doc\"\"\"\n",
    "    #Download the webpage\n",
    "    response = requests.get(url)\n",
    "    \n",
    "    #Check if the download was successful\n",
    "    if response.status_code != 200:\n",
    "        raise Exception('Unable to download page {}'.format(url))\n",
    "    \n",
    "    #Get the page HTML\n",
    "    html_contents = response.text\n",
    "    \n",
    "    #Create a bs4 doc\n",
    "    doc = BeautifulSoup(html_contents,'html.parser')\n",
    "    \n",
    "    return doc"
   ]
  },
  {
   "cell_type": "markdown",
   "metadata": {},
   "source": [
    "Now we will call the function `get_pages` by passing the required URL as argument and verify the title of the webpage."
   ]
  },
  {
   "cell_type": "code",
   "execution_count": 17,
   "metadata": {},
   "outputs": [
    {
     "data": {
      "text/plain": [
       "<title>Jobs: Search Jobs In India, Freshers Jobs Online, Govt Jobs, Recruitment | Freshersworld.com</title>"
      ]
     },
     "execution_count": 17,
     "metadata": {},
     "output_type": "execute_result"
    }
   ],
   "source": [
    "doc = get_pages(job_search_url)\n",
    "doc.title"
   ]
  },
  {
   "cell_type": "markdown",
   "metadata": {},
   "source": [
    "From the function output and then printing the title of the `bs4` object, we can confirm the function has the same usage as the 1st and 2nd steps which we wrote before."
   ]
  },
  {
   "cell_type": "markdown",
   "metadata": {},
   "source": [
    "In this section, we have successfully used the `BeautifulSoup` module from the `bs4` library to parse the HTML file."
   ]
  },
  {
   "cell_type": "markdown",
   "metadata": {},
   "source": [
    "## Extract company name, job location, apply link, required qualification, experience required, last date from the webpages"
   ]
  },
  {
   "cell_type": "markdown",
   "metadata": {},
   "source": [
    "Let's extract the details of 'Data Scientist' job and then we can extend it to obtain the CSV file information for other job profiles by writing a function.\n",
    "\n",
    "But to extract the the details of job profiles, we need the URLs to navigate to a particular job profile. \n",
    "\n",
    "Let's create a function `get_job_profile` to get the url where we want to navigate for a particular job profile."
   ]
  },
  {
   "cell_type": "code",
   "execution_count": 18,
   "metadata": {},
   "outputs": [],
   "source": [
    "def get_job_profile(job_title):\n",
    "    job_title.replace(' ','-')\n",
    "    \n",
    "    # Construct the URL\n",
    "    job_title_url = 'https://www.freshersworld.com/jobs/jobsearch/' + job_title +'-jobs'\n",
    "    \n",
    "    # Get the HTML page content using requests\n",
    "    response = requests.get(job_title_url)\n",
    "    \n",
    "    # Ensure that the reponse is valid\n",
    "    if response.status_code != 200:\n",
    "    #OR: if not response.ok:\n",
    "        print('Status code:', response.status_code)\n",
    "        raise Exception('Failed to fetch web page ' + job_title_url)\n",
    "    \n",
    "    # Construct a beautiful soup document\n",
    "    doc = BeautifulSoup(response.text)\n",
    "    \n",
    "    return doc"
   ]
  },
  {
   "cell_type": "code",
   "execution_count": 19,
   "metadata": {},
   "outputs": [],
   "source": [
    "doc = get_job_profile('Data Analyst')"
   ]
  },
  {
   "cell_type": "code",
   "execution_count": 20,
   "metadata": {},
   "outputs": [
    {
     "data": {
      "text/plain": [
       "'Data%20analyst jobs - Data%20analyst Recruitment 2019'"
      ]
     },
     "execution_count": 20,
     "metadata": {},
     "output_type": "execute_result"
    }
   ],
   "source": [
    "doc.title.text"
   ]
  },
  {
   "cell_type": "markdown",
   "metadata": {},
   "source": [
    "Getting the list of jobs for another job title is now as simple as invoking the function with a different argument."
   ]
  },
  {
   "cell_type": "code",
   "execution_count": 21,
   "metadata": {},
   "outputs": [],
   "source": [
    "doc2 = get_job_profile('Data Scientist')"
   ]
  },
  {
   "cell_type": "code",
   "execution_count": 22,
   "metadata": {},
   "outputs": [
    {
     "data": {
      "text/plain": [
       "'Data%20scientist jobs - Data%20scientist Recruitment 2019'"
      ]
     },
     "execution_count": 22,
     "metadata": {},
     "output_type": "execute_result"
    }
   ],
   "source": [
    "doc2.title.text"
   ]
  },
  {
   "cell_type": "markdown",
   "metadata": {},
   "source": [
    "![](https://i.imgur.com/M4mYFaN.png)\n",
    "\n",
    "Upon inspecting the box containing the information for a job, you will find a `div` tag for each job post, with `class` attribute set to `col-md-12 col-lg-12 col-xs-12 padding-none job-container jobs-on-hover top_space`.\n",
    "\n",
    "Let's find all the `div` tags matching this `class`."
   ]
  },
  {
   "cell_type": "code",
   "execution_count": 23,
   "metadata": {},
   "outputs": [],
   "source": [
    "div_tags = doc.find_all('div', class_='col-md-12 col-lg-12 col-xs-12 padding-none job-container jobs-on-hover top_space')"
   ]
  },
  {
   "cell_type": "code",
   "execution_count": 24,
   "metadata": {},
   "outputs": [
    {
     "data": {
      "text/plain": [
       "4"
      ]
     },
     "execution_count": 24,
     "metadata": {},
     "output_type": "execute_result"
    }
   ],
   "source": [
    "len(div_tags)"
   ]
  },
  {
   "cell_type": "markdown",
   "metadata": {},
   "source": [
    "It looks like we've 11 job listed matching the `class` name. \n",
    "\n",
    "We need to extract the following information from each tag:\n",
    "\n",
    "1. Company name\n",
    "2. Experience required\n",
    "3. Educational qualification\n",
    "4. Last date to apply\n",
    "5. Job location\n",
    "6. Link to apply\n",
    "\n",
    "Look at the source of any of the div tags. You will notice that the company name, job location and link to apply are all part of an `a` tag."
   ]
  },
  {
   "cell_type": "code",
   "execution_count": 25,
   "metadata": {},
   "outputs": [],
   "source": [
    "#There are 11 tags and we will look at one of them\n",
    "div_tag = div_tags[0]"
   ]
  },
  {
   "cell_type": "code",
   "execution_count": 26,
   "metadata": {},
   "outputs": [
    {
     "data": {
      "text/plain": [
       "<div class=\"col-md-12 col-lg-12 col-xs-12 padding-none job-container jobs-on-hover top_space\"><div class=\"text-ago\"><span class=\"job_posted_on\">Posted on : </span><span class=\"ago-text\">21 days ago</span></div><div class=\"col-md-12 col-lg-12 col-xs-12\" style=\"margin-bottom: 2%;\"><div class=\"col-md-12 col-xs-12 col-lg-12\"><div class=\"col-md-12 col-xs-12 col-lg-12 padding-none left_move_up\" style=\"margin-top: -17px;\"><a href=\"https://www.freshersworld.com/jobs/data-analyst-jobs-opening-in-caw-studios-at-gachibowli-bangalore-hyderabad-1667559\" itemprop=\"url\" target=\"_blank\" title=\"CAW Studios Recruitments\"><h3 class=\"latest-jobs-title font-16 margin-none inline-block\" itemprop=\"name\">CAW Studios</h3></a><div>Data Analyst</div><div class=\"qualification-block\" style=\"padding-top: 12px\"><span class=\"pull-left\" title=\"Education Qualification\"><svg class=\"icon-16-16\" viewbox=\"0 0 16 16\"><use xlink:href=\"#icon-qualification-svg\" xmlns:xlink=\"https://www.w3.org/1999/xlink\"></use></svg></span><span class=\"qualifications display-block modal-open\" itemprop=\"qualifications\"><span class=\"bold_elig\">BE/B.Tech</span>, <span class=\"bold_elig\">ME/M.Tech</span>, <span class=\"bold_elig\">CS</span>, <span class=\"bold_elig\">MS</span></span></div></div><div class=\"col-md-12 col-xs-12 col-lg-12 padding-none margin-top\"><span class=\"desc_title\">Job Description : </span><span class=\"desc\"> Apply to Data Analyst Jobs in CAW Studios, Bangalore, Hyderabad from 2 year experience. Find part &amp; full time, work from home job opportunit...</span></div></div></div><div class=\"col-md-12 col-xs-12 col-lg-12 view-apply-container\"><div class=\"col-md-9 col-xs-9 col-lg-9 padding-none padding-top-5\"><div class=\"col-md-5 col-xs-5 col-lg-5 padding-none\"><span class=\"pull-left\" title=\"Job Location\"><svg class=\"icon-16-16\" viewbox=\"0 0 16 16\"><use xlink:href=\"#icon-location-svg\" xmlns:xlink=\"https://www.w3.org/1999/xlink\"></use></svg></span><span class=\"job-location display-block modal-open\" itemprop=\"jobLocation\"><a class=\"bold_font\" href=\"/jobs-in-hyderabad/999903705\">Hyderabad</a>, <a class=\"bold_font\" href=\"/jobs-in-bangalore/9999016065\">Bangalore</a></span></div><div class=\"col-md-4 col-xs-4 col-lg-4 padding-none\"><span title=\"Last Date for Job Application\"><svg class=\"icon-16-16\" viewbox=\"0 0 16 16\"><use xlink:href=\"#icon-date-svg\" xmlns:xlink=\"https://www.w3.org/1999/xlink\"></use></svg></span><span class=\"last-date\">Last Date</span><span class=\"padding-left-4\" itemprop=\"datePosted\">26 Feb 23</span></div><div class=\"col-md-3 col-xs-3 col-lg-3 padding-none\"><span title=\"Experience Required\"><svg class=\"icon-16-16\" viewbox=\"0 0 16 16\"><use xlink:href=\"#icon-experience-svg\" xmlns:xlink=\"https://www.w3.org/1999/xlink\"></use></svg></span><span class=\"experience\">2 Years</span></div></div><div class=\"col-md-3 col-xs-3 col-lg-3 padding-none\"><a class=\"view-apply-button view-apply-button-1667559\" href=\"https://www.freshersworld.com/jobs/data-analyst-jobs-opening-in-caw-studios-at-gachibowli-bangalore-hyderabad-1667559\" target=\"_blank\">View &amp; Apply</a></div></div></div>"
      ]
     },
     "execution_count": 26,
     "metadata": {},
     "output_type": "execute_result"
    }
   ],
   "source": [
    "div_tag"
   ]
  },
  {
   "cell_type": "markdown",
   "metadata": {},
   "source": [
    "To get the Job role we've to extract the 1st `div` tag inside the `class` `col-md-12 col-xs-12 col-lg-12 padding-none left_move_up`"
   ]
  },
  {
   "cell_type": "code",
   "execution_count": 27,
   "metadata": {},
   "outputs": [
    {
     "data": {
      "text/plain": [
       "'Data Analyst'"
      ]
     },
     "execution_count": 27,
     "metadata": {},
     "output_type": "execute_result"
    }
   ],
   "source": [
    "role_tag=div_tag.find('div',class_='col-md-12 col-xs-12 col-lg-12 padding-none left_move_up')\n",
    "role_tag.find('div').text"
   ]
  },
  {
   "cell_type": "markdown",
   "metadata": {},
   "source": [
    "We can see `a` tags contains few details lets extract all the `a` tags.  \n"
   ]
  },
  {
   "cell_type": "code",
   "execution_count": 28,
   "metadata": {},
   "outputs": [
    {
     "data": {
      "text/plain": [
       "[<a href=\"https://www.freshersworld.com/jobs/data-analyst-jobs-opening-in-caw-studios-at-gachibowli-bangalore-hyderabad-1667559\" itemprop=\"url\" target=\"_blank\" title=\"CAW Studios Recruitments\"><h3 class=\"latest-jobs-title font-16 margin-none inline-block\" itemprop=\"name\">CAW Studios</h3></a>,\n",
       " <a class=\"bold_font\" href=\"/jobs-in-hyderabad/999903705\">Hyderabad</a>,\n",
       " <a class=\"bold_font\" href=\"/jobs-in-bangalore/9999016065\">Bangalore</a>,\n",
       " <a class=\"view-apply-button view-apply-button-1667559\" href=\"https://www.freshersworld.com/jobs/data-analyst-jobs-opening-in-caw-studios-at-gachibowli-bangalore-hyderabad-1667559\" target=\"_blank\">View &amp; Apply</a>]"
      ]
     },
     "execution_count": 28,
     "metadata": {},
     "output_type": "execute_result"
    }
   ],
   "source": [
    "a_tags = div_tag.find_all('a')\n",
    "a_tags"
   ]
  },
  {
   "cell_type": "markdown",
   "metadata": {},
   "source": [
    "We found company name, job location, link to apply. \n",
    "\n",
    "Now lets extract those using `a` tags."
   ]
  },
  {
   "cell_type": "code",
   "execution_count": 29,
   "metadata": {},
   "outputs": [
    {
     "data": {
      "text/plain": [
       "'CAW Studios'"
      ]
     },
     "execution_count": 29,
     "metadata": {},
     "output_type": "execute_result"
    }
   ],
   "source": [
    "company_name = a_tags[0].text\n",
    "company_name"
   ]
  },
  {
   "cell_type": "code",
   "execution_count": 30,
   "metadata": {},
   "outputs": [
    {
     "data": {
      "text/plain": [
       "'https://www.freshersworld.com/jobs/data-analyst-jobs-opening-in-caw-studios-at-gachibowli-bangalore-hyderabad-1667559'"
      ]
     },
     "execution_count": 30,
     "metadata": {},
     "output_type": "execute_result"
    }
   ],
   "source": [
    "apply_link = a_tags[-1]['href']\n",
    "apply_link"
   ]
  },
  {
   "cell_type": "code",
   "execution_count": 31,
   "metadata": {},
   "outputs": [
    {
     "data": {
      "text/plain": [
       "[<a class=\"bold_font\" href=\"/jobs-in-hyderabad/999903705\">Hyderabad</a>,\n",
       " <a class=\"bold_font\" href=\"/jobs-in-bangalore/9999016065\">Bangalore</a>]"
      ]
     },
     "execution_count": 31,
     "metadata": {},
     "output_type": "execute_result"
    }
   ],
   "source": [
    "job_location = div_tag.find_all('a',class_ ='bold_font')\n",
    "job_location"
   ]
  },
  {
   "cell_type": "markdown",
   "metadata": {},
   "source": [
    "We can see there are 2 job locations for this job.\n",
    "\n",
    "let's create a function to get these 2 locations as a single string seperated by `/`."
   ]
  },
  {
   "cell_type": "code",
   "execution_count": 32,
   "metadata": {},
   "outputs": [],
   "source": [
    "def get_loc(loc_list):\n",
    "    loc=''\n",
    "    for x in range(len(loc_list)):\n",
    "        loc+=loc_list[x].text\n",
    "        if x == len(loc_list)-1:\n",
    "            break\n",
    "        loc+='/'\n",
    "    return loc"
   ]
  },
  {
   "cell_type": "code",
   "execution_count": 33,
   "metadata": {},
   "outputs": [
    {
     "data": {
      "text/plain": [
       "'Hyderabad/Bangalore'"
      ]
     },
     "execution_count": 33,
     "metadata": {},
     "output_type": "execute_result"
    }
   ],
   "source": [
    "get_loc(job_location)"
   ]
  },
  {
   "cell_type": "markdown",
   "metadata": {},
   "source": [
    "Now let's extract remaining details which we can find in `span` tag"
   ]
  },
  {
   "cell_type": "code",
   "execution_count": 34,
   "metadata": {},
   "outputs": [
    {
     "data": {
      "text/plain": [
       "[<span class=\"job_posted_on\">Posted on : </span>,\n",
       " <span class=\"ago-text\">21 days ago</span>,\n",
       " <span class=\"pull-left\" title=\"Education Qualification\"><svg class=\"icon-16-16\" viewbox=\"0 0 16 16\"><use xlink:href=\"#icon-qualification-svg\" xmlns:xlink=\"https://www.w3.org/1999/xlink\"></use></svg></span>,\n",
       " <span class=\"qualifications display-block modal-open\" itemprop=\"qualifications\"><span class=\"bold_elig\">BE/B.Tech</span>, <span class=\"bold_elig\">ME/M.Tech</span>, <span class=\"bold_elig\">CS</span>, <span class=\"bold_elig\">MS</span></span>,\n",
       " <span class=\"bold_elig\">BE/B.Tech</span>,\n",
       " <span class=\"bold_elig\">ME/M.Tech</span>,\n",
       " <span class=\"bold_elig\">CS</span>,\n",
       " <span class=\"bold_elig\">MS</span>,\n",
       " <span class=\"desc_title\">Job Description : </span>,\n",
       " <span class=\"desc\"> Apply to Data Analyst Jobs in CAW Studios, Bangalore, Hyderabad from 2 year experience. Find part &amp; full time, work from home job opportunit...</span>,\n",
       " <span class=\"pull-left\" title=\"Job Location\"><svg class=\"icon-16-16\" viewbox=\"0 0 16 16\"><use xlink:href=\"#icon-location-svg\" xmlns:xlink=\"https://www.w3.org/1999/xlink\"></use></svg></span>,\n",
       " <span class=\"job-location display-block modal-open\" itemprop=\"jobLocation\"><a class=\"bold_font\" href=\"/jobs-in-hyderabad/999903705\">Hyderabad</a>, <a class=\"bold_font\" href=\"/jobs-in-bangalore/9999016065\">Bangalore</a></span>,\n",
       " <span title=\"Last Date for Job Application\"><svg class=\"icon-16-16\" viewbox=\"0 0 16 16\"><use xlink:href=\"#icon-date-svg\" xmlns:xlink=\"https://www.w3.org/1999/xlink\"></use></svg></span>,\n",
       " <span class=\"last-date\">Last Date</span>,\n",
       " <span class=\"padding-left-4\" itemprop=\"datePosted\">26 Feb 23</span>,\n",
       " <span title=\"Experience Required\"><svg class=\"icon-16-16\" viewbox=\"0 0 16 16\"><use xlink:href=\"#icon-experience-svg\" xmlns:xlink=\"https://www.w3.org/1999/xlink\"></use></svg></span>,\n",
       " <span class=\"experience\">2 Years</span>]"
      ]
     },
     "execution_count": 34,
     "metadata": {},
     "output_type": "execute_result"
    }
   ],
   "source": [
    "span_tags= div_tag.find_all('span')\n",
    "span_tags"
   ]
  },
  {
   "cell_type": "code",
   "execution_count": 35,
   "metadata": {},
   "outputs": [
    {
     "data": {
      "text/plain": [
       "[<span class=\"bold_elig\">BE/B.Tech</span>,\n",
       " <span class=\"bold_elig\">ME/M.Tech</span>,\n",
       " <span class=\"bold_elig\">CS</span>,\n",
       " <span class=\"bold_elig\">MS</span>]"
      ]
     },
     "execution_count": 35,
     "metadata": {},
     "output_type": "execute_result"
    }
   ],
   "source": [
    "edu_qualification= div_tag.find_all('span',class_ ='bold_elig')\n",
    "edu_qualification"
   ]
  },
  {
   "cell_type": "markdown",
   "metadata": {},
   "source": [
    "There are 4 required education qualification.\n",
    "\n",
    "let's create a function to get these as a single string seperated by /."
   ]
  },
  {
   "cell_type": "code",
   "execution_count": 36,
   "metadata": {},
   "outputs": [
    {
     "data": {
      "text/plain": [
       "'BE/B.Tech/ME/M.Tech/CS/MS'"
      ]
     },
     "execution_count": 36,
     "metadata": {},
     "output_type": "execute_result"
    }
   ],
   "source": [
    "def all_qualification(span_list):\n",
    "    edu_list=''\n",
    "    for x in range(len(span_list)):\n",
    "        edu_list+=span_list[x].text\n",
    "        if x == len(span_list)-1:\n",
    "            break\n",
    "        edu_list+='/'\n",
    "    return edu_list    \n",
    "all_qualification(edu_qualification)\n",
    "    "
   ]
  },
  {
   "cell_type": "code",
   "execution_count": 37,
   "metadata": {},
   "outputs": [
    {
     "data": {
      "text/plain": [
       "'2 Years'"
      ]
     },
     "execution_count": 37,
     "metadata": {},
     "output_type": "execute_result"
    }
   ],
   "source": [
    "exp = div_tag.find_all('span',class_ ='experience')[0].text\n",
    "exp"
   ]
  },
  {
   "cell_type": "code",
   "execution_count": 38,
   "metadata": {},
   "outputs": [
    {
     "data": {
      "text/plain": [
       "'26 Feb 23'"
      ]
     },
     "execution_count": 38,
     "metadata": {},
     "output_type": "execute_result"
    }
   ],
   "source": [
    "last_day = div_tag.find_all('span',class_ ='padding-left-4')[0].text\n",
    "last_day"
   ]
  },
  {
   "cell_type": "markdown",
   "metadata": {},
   "source": [
    "Now let's define a function `parse_job_details` which can take `div` tag of the page and extract all the job details and then return the details as a dictionary."
   ]
  },
  {
   "cell_type": "code",
   "execution_count": 39,
   "metadata": {
    "code_folding": []
   },
   "outputs": [],
   "source": [
    "def parse_job_details(div_tag):\n",
    "    #Job Role\n",
    "    role_tag=div_tag.find('div',class_='col-md-12 col-xs-12 col-lg-12 padding-none left_move_up')\n",
    "    job_role=role_tag.find('div').text\n",
    "    #All a tags\n",
    "    a_tags = div_tag.find_all('a')\n",
    "    # Company name\n",
    "    comp_name = a_tags[0].text\n",
    "    # Job location\n",
    "    job_location = div_tag.find_all('a',class_ ='bold_font')\n",
    "    loc = get_loc(job_location)\n",
    "    # Link to apply URL\n",
    "    apply_link = a_tags[-1]['href']\n",
    "    # Required educational qualification\n",
    "    edu_qualification= div_tag.find_all('span',class_ ='bold_elig')\n",
    "    req_quali = all_qualification(edu_qualification)\n",
    "    # Experience required\n",
    "    exp = div_tag.find_all('span',class_ ='experience')[0].text\n",
    "    # Last day to apply\n",
    "    last_date = div_tag.find_all('span',class_ ='padding-left-4')[0].text\n",
    "    \n",
    "    \n",
    "    # Return a dictionary\n",
    "    return {\n",
    "        'job role': job_role,\n",
    "        'company name': comp_name,\n",
    "        'job location': loc,        \n",
    "        'required qualification': req_quali,\n",
    "        'experience required': exp,\n",
    "        'last date': last_date,\n",
    "        'apply link': apply_link\n",
    "    }"
   ]
  },
  {
   "cell_type": "markdown",
   "metadata": {},
   "source": [
    "We can now use the function to parse any div tag."
   ]
  },
  {
   "cell_type": "code",
   "execution_count": 40,
   "metadata": {},
   "outputs": [
    {
     "data": {
      "text/plain": [
       "{'job role': 'Data Analyst',\n",
       " 'company name': 'CAW Studios',\n",
       " 'job location': 'Hyderabad/Bangalore',\n",
       " 'required qualification': 'BE/B.Tech/ME/M.Tech/CS/MS',\n",
       " 'experience required': '2 Years',\n",
       " 'last date': '26 Feb 23',\n",
       " 'apply link': 'https://www.freshersworld.com/jobs/data-analyst-jobs-opening-in-caw-studios-at-gachibowli-bangalore-hyderabad-1667559'}"
      ]
     },
     "execution_count": 40,
     "metadata": {},
     "output_type": "execute_result"
    }
   ],
   "source": [
    "parse_job_details(div_tags[0]) "
   ]
  },
  {
   "cell_type": "markdown",
   "metadata": {},
   "source": [
    "We can use a list comprehension to parse all the `div` tags in one go."
   ]
  },
  {
   "cell_type": "code",
   "execution_count": 41,
   "metadata": {},
   "outputs": [
    {
     "data": {
      "text/plain": [
       "[{'job role': 'Data Analyst',\n",
       "  'company name': 'CAW Studios',\n",
       "  'job location': 'Hyderabad/Bangalore',\n",
       "  'required qualification': 'BE/B.Tech/ME/M.Tech/CS/MS',\n",
       "  'experience required': '2 Years',\n",
       "  'last date': '26 Feb 23',\n",
       "  'apply link': 'https://www.freshersworld.com/jobs/data-analyst-jobs-opening-in-caw-studios-at-gachibowli-bangalore-hyderabad-1667559'},\n",
       " {'job role': 'Data Analyst',\n",
       "  'company name': 'AMC Career',\n",
       "  'job location': 'Pune',\n",
       "  'required qualification': 'BE/B.Tech',\n",
       "  'experience required': '0 Years',\n",
       "  'last date': '17 Mar 23',\n",
       "  'apply link': 'https://www.freshersworld.com/jobs/data-analyst-jobs-opening-in-amc-career-at-akurdi-magarpatta-pune-1674315'},\n",
       " {'job role': 'Data Analyst',\n",
       "  'company name': 'Lets Viz Technologies',\n",
       "  'job location': 'Delhi',\n",
       "  'required qualification': 'BCA/BE/B.Tech/BSc',\n",
       "  'experience required': '0 Years',\n",
       "  'last date': '12 Feb 23',\n",
       "  'apply link': 'https://www.freshersworld.com/jobs/data-analyst-jobs-opening-in-lets-viz-technologies-at-jasola-delhi-1622639'},\n",
       " {'job role': 'IT Business Analyst',\n",
       "  'company name': 'Yes IT Lab',\n",
       "  'job location': 'Delhi/Noida',\n",
       "  'required qualification': 'Certificate Course (ITI)/BCA/BE/B.Tech/MBA/PGDM/BSc/MCA/MSc',\n",
       "  'experience required': '0 Years',\n",
       "  'last date': '06 Mar 23',\n",
       "  'apply link': 'https://www.freshersworld.com/jobs/it-business-analyst-jobs-opening-in-yes-it-lab-at-sector-62-noida-noida-delhi-1672927'}]"
      ]
     },
     "execution_count": 41,
     "metadata": {},
     "output_type": "execute_result"
    }
   ],
   "source": [
    "jobs = [parse_job_details(x) for x in div_tags]\n",
    "jobs"
   ]
  },
  {
   "cell_type": "markdown",
   "metadata": {},
   "source": [
    "## Compile extracted information using Python lists"
   ]
  },
  {
   "cell_type": "markdown",
   "metadata": {},
   "source": [
    "Now let's a function that takes a job title and returns a list of dictionaries containing details of the job."
   ]
  },
  {
   "cell_type": "code",
   "execution_count": 42,
   "metadata": {},
   "outputs": [],
   "source": [
    "def get_job_details(job_title):\n",
    "    doc = get_job_profile(job_title)\n",
    "    div_tags = doc.find_all('div', class_='col-md-12 col-lg-12 col-xs-12 padding-none job-container jobs-on-hover top_space')\n",
    "    jobs = [parse_job_details(tags) for tags in div_tags]\n",
    "    return jobs"
   ]
  },
  {
   "cell_type": "markdown",
   "metadata": {},
   "source": [
    "We can now use the functions we've defined to get the details of the jobs listed."
   ]
  },
  {
   "cell_type": "code",
   "execution_count": 43,
   "metadata": {},
   "outputs": [
    {
     "data": {
      "text/plain": [
       "30"
      ]
     },
     "execution_count": 43,
     "metadata": {},
     "output_type": "execute_result"
    }
   ],
   "source": [
    "jobs = get_job_details('Digital Marketing')\n",
    "len(jobs)"
   ]
  },
  {
   "cell_type": "markdown",
   "metadata": {},
   "source": [
    "Let's try with different job title."
   ]
  },
  {
   "cell_type": "code",
   "execution_count": 44,
   "metadata": {},
   "outputs": [
    {
     "data": {
      "text/plain": [
       "[{'job role': 'Data Scientist',\n",
       "  'company name': 'Atlassian',\n",
       "  'job location': 'Bangalore',\n",
       "  'required qualification': 'BCA/BE/B.Tech/MCA/ME/M.Tech',\n",
       "  'experience required': '0 to 3+ Years',\n",
       "  'last date': '22 Jan 23',\n",
       "  'apply link': 'https://www.freshersworld.com/jobs/data-scientist-jobs-opening-in-atlassian-at-electronic-city-bangalore-1634035'},\n",
       " {'job role': 'Data Scientist',\n",
       "  'company name': 'Product company',\n",
       "  'job location': 'Noida',\n",
       "  'required qualification': 'BE/B.Tech/CS/Other Graduate',\n",
       "  'experience required': '0 Years',\n",
       "  'last date': '18 Mar 23',\n",
       "  'apply link': 'https://www.freshersworld.com/jobs/data-scientist-jobs-opening-in-product-company-at-dlf-phase-4-noida-1674496'},\n",
       " {'job role': 'Data Scientist',\n",
       "  'company name': 'DEEPIJA TELECOM PRIVATE LIMITED',\n",
       "  'job location': 'Hyderabad',\n",
       "  'required qualification': 'BE/B.Tech',\n",
       "  'experience required': '0 Years',\n",
       "  'last date': '28 Jan 23',\n",
       "  'apply link': 'https://www.freshersworld.com/jobs/data-scientist-jobs-opening-in-deepija-telecom-private-limited-at-madhapur-hyderabad-1640089'},\n",
       " {'job role': 'Scientist',\n",
       "  'company name': 'Vedam India Metallurgical Research Laboratory Private Limited',\n",
       "  'job location': 'Kolkata',\n",
       "  'required qualification': 'M Phil / Ph.D',\n",
       "  'experience required': '0 Years',\n",
       "  'last date': '18 Feb 23',\n",
       "  'apply link': 'https://www.freshersworld.com/jobs/scientist-jobs-opening-in-vedam-india-metallurgical-research-laboratory-private-limited-at-jadavpur-kolkata-1659750'},\n",
       " {'job role': 'Data Scientist Internship',\n",
       "  'company name': 'A2B Pvt',\n",
       "  'job location': 'Hyderabad',\n",
       "  'required qualification': 'BCA/BE/B.Tech/BSc/MCA/ME/M.Tech/MS/MSc',\n",
       "  'experience required': '0 Years',\n",
       "  'last date': '07 Mar 23',\n",
       "  'apply link': 'https://www.freshersworld.com/jobs/data-scientist-internship-jobs-opening-in-a2b-pvt-at-gachibowli-hyderabad-1673039'},\n",
       " {'job role': 'Junior Resident -Non-Academic',\n",
       "  'company name': 'AIIMS Bhopal',\n",
       "  'job location': 'Bhopal',\n",
       "  'required qualification': 'MBBS',\n",
       "  'experience required': '0 Years',\n",
       "  'last date': '24 Jan 23',\n",
       "  'apply link': 'https://www.freshersworld.com/jobs/aiims-bhopal-bhopal-junior-resident-non-academic-recruitment-2023-apply-online-1673765'}]"
      ]
     },
     "execution_count": 44,
     "metadata": {},
     "output_type": "execute_result"
    }
   ],
   "source": [
    "jobs = get_job_details('Data Scientist')\n",
    "jobs"
   ]
  },
  {
   "cell_type": "markdown",
   "metadata": {},
   "source": [
    "## Save the extracted information to a CSV file."
   ]
  },
  {
   "cell_type": "markdown",
   "metadata": {},
   "source": [
    "Let's create a function which takes a list of dictionaries and writes them to a CSV file."
   ]
  },
  {
   "cell_type": "code",
   "execution_count": 45,
   "metadata": {},
   "outputs": [],
   "source": [
    "def write_csv(items, path):\n",
    "    # Open the file in write mode\n",
    "    with open(path, 'w') as f:\n",
    "        # Return if there's nothing to write\n",
    "        if len(items) == 0:\n",
    "            return\n",
    "        \n",
    "        # Write the headers in the first line\n",
    "        headers = list(items[0].keys())\n",
    "        f.write(','.join(headers) + '\\n')\n",
    "        \n",
    "        # Write one item per line\n",
    "        for item in items:\n",
    "            values = []\n",
    "            for header in headers:\n",
    "                values.append(str(item.get(header, \"\")))\n",
    "            f.write(','.join(values) + \"\\n\")"
   ]
  },
  {
   "cell_type": "markdown",
   "metadata": {},
   "source": [
    "Let's write the data stored in `jobs` into a CSV file."
   ]
  },
  {
   "cell_type": "code",
   "execution_count": 46,
   "metadata": {},
   "outputs": [],
   "source": [
    "write_csv(jobs, 'Data Scientist.csv')"
   ]
  },
  {
   "cell_type": "markdown",
   "metadata": {},
   "source": [
    "We can now read the file and inspect its contents. The contents of the file can also be inspected using the \"File > Open\" menu option within Jupyter."
   ]
  },
  {
   "cell_type": "code",
   "execution_count": 47,
   "metadata": {},
   "outputs": [
    {
     "name": "stdout",
     "output_type": "stream",
     "text": [
      "job role,company name,job location,required qualification,experience required,last date,apply link\n",
      "Data Scientist,Atlassian,Bangalore,BCA/BE/B.Tech/MCA/ME/M.Tech,0 to 3+ Years,22 Jan 23,https://www.freshersworld.com/jobs/data-scientist-jobs-opening-in-atlassian-at-electronic-city-bangalore-1634035\n",
      "Data Scientist,Product company,Noida,BE/B.Tech/CS/Other Graduate,0 Years,18 Mar 23,https://www.freshersworld.com/jobs/data-scientist-jobs-opening-in-product-company-at-dlf-phase-4-noida-1674496\n",
      "Data Scientist,DEEPIJA TELECOM PRIVATE LIMITED,Hyderabad,BE/B.Tech,0 Years,28 Jan 23,https://www.freshersworld.com/jobs/data-scientist-jobs-opening-in-deepija-telecom-private-limited-at-madhapur-hyderabad-1640089\n",
      "Scientist,Vedam India Metallurgical Research Laboratory Private Limited,Kolkata,M Phil / Ph.D,0 Years,18 Feb 23,https://www.freshersworld.com/jobs/scientist-jobs-opening-in-vedam-india-metallurgical-research-laboratory-private-limited-at-jadavpur-kolkata-1659750\n",
      "Data Scientist Internship,A2B Pvt,Hyderabad,BCA/BE/B.Tech/BSc/MCA/ME/M.Tech/MS/MSc,0 Years,07 Mar 23,https://www.freshersworld.com/jobs/data-scientist-internship-jobs-opening-in-a2b-pvt-at-gachibowli-hyderabad-1673039\n",
      "Junior Resident -Non-Academic,AIIMS Bhopal,Bhopal,MBBS,0 Years,24 Jan 23,https://www.freshersworld.com/jobs/aiims-bhopal-bhopal-junior-resident-non-academic-recruitment-2023-apply-online-1673765\n",
      "\n"
     ]
    }
   ],
   "source": [
    "with open('Data Scientist.csv', 'r') as f:\n",
    "    print(f.read())"
   ]
  },
  {
   "cell_type": "markdown",
   "metadata": {},
   "source": [
    "Let's create a function which takes job title and returns csv file path"
   ]
  },
  {
   "cell_type": "code",
   "execution_count": 48,
   "metadata": {},
   "outputs": [],
   "source": [
    "def scrape_job(job_title, path=None):\n",
    "    if path is None:\n",
    "        path = job_title + '.csv'\n",
    "    jobs = get_job_details(job_title)\n",
    "    write_csv(jobs, path)\n",
    "    print('Jobs for \"{}\" written to file \"{}\"'.format(job_title, path))\n",
    "    return path"
   ]
  },
  {
   "cell_type": "code",
   "execution_count": 49,
   "metadata": {},
   "outputs": [
    {
     "name": "stdout",
     "output_type": "stream",
     "text": [
      "Jobs for \"Data Analyst\" written to file \"Data Analyst.csv\"\n"
     ]
    },
    {
     "data": {
      "text/plain": [
       "'Data Analyst.csv'"
      ]
     },
     "execution_count": 49,
     "metadata": {},
     "output_type": "execute_result"
    }
   ],
   "source": [
    "scrape_job('Data Analyst')"
   ]
  },
  {
   "cell_type": "markdown",
   "metadata": {},
   "source": [
    "Now that we have a CSV file, we can use the `pandas` library to view its contents."
   ]
  },
  {
   "cell_type": "code",
   "execution_count": 50,
   "metadata": {},
   "outputs": [],
   "source": [
    "import pandas as pd"
   ]
  },
  {
   "cell_type": "code",
   "execution_count": 51,
   "metadata": {},
   "outputs": [
    {
     "data": {
      "text/html": [
       "<div>\n",
       "<style scoped>\n",
       "    .dataframe tbody tr th:only-of-type {\n",
       "        vertical-align: middle;\n",
       "    }\n",
       "\n",
       "    .dataframe tbody tr th {\n",
       "        vertical-align: top;\n",
       "    }\n",
       "\n",
       "    .dataframe thead th {\n",
       "        text-align: right;\n",
       "    }\n",
       "</style>\n",
       "<table border=\"1\" class=\"dataframe\">\n",
       "  <thead>\n",
       "    <tr style=\"text-align: right;\">\n",
       "      <th></th>\n",
       "      <th>job role</th>\n",
       "      <th>company name</th>\n",
       "      <th>job location</th>\n",
       "      <th>required qualification</th>\n",
       "      <th>experience required</th>\n",
       "      <th>last date</th>\n",
       "      <th>apply link</th>\n",
       "    </tr>\n",
       "  </thead>\n",
       "  <tbody>\n",
       "    <tr>\n",
       "      <th>0</th>\n",
       "      <td>Data Analyst</td>\n",
       "      <td>CAW Studios</td>\n",
       "      <td>Hyderabad/Bangalore</td>\n",
       "      <td>BE/B.Tech/ME/M.Tech/CS/MS</td>\n",
       "      <td>2 Years</td>\n",
       "      <td>26 Feb 23</td>\n",
       "      <td>https://www.freshersworld.com/jobs/data-analys...</td>\n",
       "    </tr>\n",
       "    <tr>\n",
       "      <th>1</th>\n",
       "      <td>Data Analyst</td>\n",
       "      <td>AMC Career</td>\n",
       "      <td>Pune</td>\n",
       "      <td>BE/B.Tech</td>\n",
       "      <td>0 Years</td>\n",
       "      <td>17 Mar 23</td>\n",
       "      <td>https://www.freshersworld.com/jobs/data-analys...</td>\n",
       "    </tr>\n",
       "    <tr>\n",
       "      <th>2</th>\n",
       "      <td>Data Analyst</td>\n",
       "      <td>Lets Viz Technologies</td>\n",
       "      <td>Delhi</td>\n",
       "      <td>BCA/BE/B.Tech/BSc</td>\n",
       "      <td>0 Years</td>\n",
       "      <td>12 Feb 23</td>\n",
       "      <td>https://www.freshersworld.com/jobs/data-analys...</td>\n",
       "    </tr>\n",
       "    <tr>\n",
       "      <th>3</th>\n",
       "      <td>IT Business Analyst</td>\n",
       "      <td>Yes IT Lab</td>\n",
       "      <td>Delhi/Noida</td>\n",
       "      <td>Certificate Course (ITI)/BCA/BE/B.Tech/MBA/PGD...</td>\n",
       "      <td>0 Years</td>\n",
       "      <td>06 Mar 23</td>\n",
       "      <td>https://www.freshersworld.com/jobs/it-business...</td>\n",
       "    </tr>\n",
       "  </tbody>\n",
       "</table>\n",
       "</div>"
      ],
      "text/plain": [
       "              job role           company name         job location  \\\n",
       "0         Data Analyst            CAW Studios  Hyderabad/Bangalore   \n",
       "1         Data Analyst             AMC Career                 Pune   \n",
       "2         Data Analyst  Lets Viz Technologies                Delhi   \n",
       "3  IT Business Analyst             Yes IT Lab          Delhi/Noida   \n",
       "\n",
       "                              required qualification experience required  \\\n",
       "0                          BE/B.Tech/ME/M.Tech/CS/MS             2 Years   \n",
       "1                                          BE/B.Tech             0 Years   \n",
       "2                                  BCA/BE/B.Tech/BSc             0 Years   \n",
       "3  Certificate Course (ITI)/BCA/BE/B.Tech/MBA/PGD...             0 Years   \n",
       "\n",
       "   last date                                         apply link  \n",
       "0  26 Feb 23  https://www.freshersworld.com/jobs/data-analys...  \n",
       "1  17 Mar 23  https://www.freshersworld.com/jobs/data-analys...  \n",
       "2  12 Feb 23  https://www.freshersworld.com/jobs/data-analys...  \n",
       "3  06 Mar 23  https://www.freshersworld.com/jobs/it-business...  "
      ]
     },
     "execution_count": 51,
     "metadata": {},
     "output_type": "execute_result"
    }
   ],
   "source": [
    "pd.read_csv('Data Analyst.csv')"
   ]
  },
  {
   "cell_type": "markdown",
   "metadata": {},
   "source": [
    "Let's try with different job profiles"
   ]
  },
  {
   "cell_type": "code",
   "execution_count": 52,
   "metadata": {},
   "outputs": [
    {
     "name": "stdout",
     "output_type": "stream",
     "text": [
      "Jobs for \"Software Developer\" written to file \"Software Developer.csv\"\n"
     ]
    },
    {
     "data": {
      "text/plain": [
       "'Software Developer.csv'"
      ]
     },
     "execution_count": 52,
     "metadata": {},
     "output_type": "execute_result"
    }
   ],
   "source": [
    "scrape_job('Software Developer')"
   ]
  },
  {
   "cell_type": "code",
   "execution_count": 53,
   "metadata": {},
   "outputs": [
    {
     "data": {
      "text/html": [
       "<div>\n",
       "<style scoped>\n",
       "    .dataframe tbody tr th:only-of-type {\n",
       "        vertical-align: middle;\n",
       "    }\n",
       "\n",
       "    .dataframe tbody tr th {\n",
       "        vertical-align: top;\n",
       "    }\n",
       "\n",
       "    .dataframe thead th {\n",
       "        text-align: right;\n",
       "    }\n",
       "</style>\n",
       "<table border=\"1\" class=\"dataframe\">\n",
       "  <thead>\n",
       "    <tr style=\"text-align: right;\">\n",
       "      <th></th>\n",
       "      <th>job role</th>\n",
       "      <th>company name</th>\n",
       "      <th>job location</th>\n",
       "      <th>required qualification</th>\n",
       "      <th>experience required</th>\n",
       "      <th>last date</th>\n",
       "      <th>apply link</th>\n",
       "    </tr>\n",
       "  </thead>\n",
       "  <tbody>\n",
       "    <tr>\n",
       "      <th>0</th>\n",
       "      <td>Software Developer</td>\n",
       "      <td>AMC Career</td>\n",
       "      <td>Pune</td>\n",
       "      <td>BE/B.Tech</td>\n",
       "      <td>0 Years</td>\n",
       "      <td>18 Mar 23</td>\n",
       "      <td>https://www.freshersworld.com/jobs/software-de...</td>\n",
       "    </tr>\n",
       "    <tr>\n",
       "      <th>1</th>\n",
       "      <td>Software Developer</td>\n",
       "      <td>Corporate Resources</td>\n",
       "      <td>Bangalore</td>\n",
       "      <td>BE/B.Tech</td>\n",
       "      <td>0 to 3+ Years</td>\n",
       "      <td>04 Mar 23</td>\n",
       "      <td>https://www.freshersworld.com/jobs/software-de...</td>\n",
       "    </tr>\n",
       "    <tr>\n",
       "      <th>2</th>\n",
       "      <td>Software Developer</td>\n",
       "      <td>CloudEQ Software Private Limited</td>\n",
       "      <td>Chandigarh</td>\n",
       "      <td>BCA/BE/B.Tech/BSc/MCA/ME/M.Tech/CS/MS/MSc</td>\n",
       "      <td>0 Years</td>\n",
       "      <td>27 Feb 23</td>\n",
       "      <td>https://www.freshersworld.com/jobs/software-de...</td>\n",
       "    </tr>\n",
       "    <tr>\n",
       "      <th>3</th>\n",
       "      <td>Software Developer</td>\n",
       "      <td>VoiceSnap Services Pvt Ltd</td>\n",
       "      <td>Chennai</td>\n",
       "      <td>BCA/BE/B.Tech/BSc/CS</td>\n",
       "      <td>2 Years</td>\n",
       "      <td>24 Feb 23</td>\n",
       "      <td>https://www.freshersworld.com/jobs/software-de...</td>\n",
       "    </tr>\n",
       "    <tr>\n",
       "      <th>4</th>\n",
       "      <td>Software Developer</td>\n",
       "      <td>Zanthium Technosoft Pvt Ltd</td>\n",
       "      <td>Noida/Rudrapur</td>\n",
       "      <td>BCA/BE/B.Tech/MCA/ME/M.Tech</td>\n",
       "      <td>0 Years</td>\n",
       "      <td>11 Feb 23</td>\n",
       "      <td>https://www.freshersworld.com/jobs/software-de...</td>\n",
       "    </tr>\n",
       "    <tr>\n",
       "      <th>5</th>\n",
       "      <td>Software Developer</td>\n",
       "      <td>Money Honey Financial Service Pvt Ltd</td>\n",
       "      <td>Mumbai</td>\n",
       "      <td>BE/B.Tech/BSc</td>\n",
       "      <td>0 Years</td>\n",
       "      <td>13 Feb 23</td>\n",
       "      <td>https://www.freshersworld.com/jobs/software-de...</td>\n",
       "    </tr>\n",
       "    <tr>\n",
       "      <th>6</th>\n",
       "      <td>Software Developer</td>\n",
       "      <td>Alchemy Solutions</td>\n",
       "      <td>Bangalore</td>\n",
       "      <td>BCA/BE/B.Tech/MCA</td>\n",
       "      <td>0 Years</td>\n",
       "      <td>12 Feb 23</td>\n",
       "      <td>https://www.freshersworld.com/jobs/software-de...</td>\n",
       "    </tr>\n",
       "    <tr>\n",
       "      <th>7</th>\n",
       "      <td>Software Developer</td>\n",
       "      <td>Forzo TechLabs</td>\n",
       "      <td>Chennai</td>\n",
       "      <td>BCA/BE/B.Tech/BSc/MCA/MSc</td>\n",
       "      <td>1 to 2 Years</td>\n",
       "      <td>05 Feb 23</td>\n",
       "      <td>https://www.freshersworld.com/jobs/software-de...</td>\n",
       "    </tr>\n",
       "    <tr>\n",
       "      <th>8</th>\n",
       "      <td>Software Developer</td>\n",
       "      <td>Magneqsoftware</td>\n",
       "      <td>Hyderabad</td>\n",
       "      <td>BE/B.Tech/BSc/MCA/ME/M.Tech</td>\n",
       "      <td>0 to 0.6 Years</td>\n",
       "      <td>01 Feb 23</td>\n",
       "      <td>https://www.freshersworld.com/jobs/software-de...</td>\n",
       "    </tr>\n",
       "    <tr>\n",
       "      <th>9</th>\n",
       "      <td>Software Developer</td>\n",
       "      <td>IESoft Technologies Private Limited</td>\n",
       "      <td>NaN</td>\n",
       "      <td>BCA/BE/B.Tech/MCA/ME/M.Tech</td>\n",
       "      <td>0 Years</td>\n",
       "      <td>17 Feb 23</td>\n",
       "      <td>https://www.freshersworld.com/jobs/company/ies...</td>\n",
       "    </tr>\n",
       "    <tr>\n",
       "      <th>10</th>\n",
       "      <td>Software Developer</td>\n",
       "      <td>Abundant AI</td>\n",
       "      <td>Chennai</td>\n",
       "      <td>BE/B.Tech/BSc/MCA</td>\n",
       "      <td>2.5 Years</td>\n",
       "      <td>11 Feb 23</td>\n",
       "      <td>https://www.freshersworld.com/jobs/software-de...</td>\n",
       "    </tr>\n",
       "    <tr>\n",
       "      <th>11</th>\n",
       "      <td>Software Developer</td>\n",
       "      <td>Magneq software</td>\n",
       "      <td>Hyderabad</td>\n",
       "      <td>BE/B.Tech/BSc/CS</td>\n",
       "      <td>0 Years</td>\n",
       "      <td>07 Feb 23</td>\n",
       "      <td>https://www.freshersworld.com/jobs/software-de...</td>\n",
       "    </tr>\n",
       "    <tr>\n",
       "      <th>12</th>\n",
       "      <td>Software Developer</td>\n",
       "      <td>Eogy Technologies Solutions</td>\n",
       "      <td>Chandigarh/Ambala/Faridabad</td>\n",
       "      <td>BE/B.Tech</td>\n",
       "      <td>0 Years</td>\n",
       "      <td>22 Jan 23</td>\n",
       "      <td>https://www.freshersworld.com/jobs/software-de...</td>\n",
       "    </tr>\n",
       "    <tr>\n",
       "      <th>13</th>\n",
       "      <td>Software Developer</td>\n",
       "      <td>AllEngineerJob</td>\n",
       "      <td>Bangalore</td>\n",
       "      <td>BE/B.Tech</td>\n",
       "      <td>0 to 2 Years</td>\n",
       "      <td>20 Jan 23</td>\n",
       "      <td>https://www.freshersworld.com/jobs/software-de...</td>\n",
       "    </tr>\n",
       "    <tr>\n",
       "      <th>14</th>\n",
       "      <td>Software Developer</td>\n",
       "      <td>Sandal Tree Soft</td>\n",
       "      <td>Bangalore/Mumbai/Pune</td>\n",
       "      <td>BCA/BE/B.Tech/BSc/MCA/MSc</td>\n",
       "      <td>0 Years</td>\n",
       "      <td>05 Mar 23</td>\n",
       "      <td>https://www.freshersworld.com/jobs/software-de...</td>\n",
       "    </tr>\n",
       "    <tr>\n",
       "      <th>15</th>\n",
       "      <td>Software Developer</td>\n",
       "      <td>WebRenvent</td>\n",
       "      <td>Delhi</td>\n",
       "      <td>BCA/MCA</td>\n",
       "      <td>1 to 3+ Years</td>\n",
       "      <td>18 Feb 23</td>\n",
       "      <td>https://www.freshersworld.com/jobs/software-de...</td>\n",
       "    </tr>\n",
       "    <tr>\n",
       "      <th>16</th>\n",
       "      <td>Software Developer</td>\n",
       "      <td>Percept Infosystem Consultants</td>\n",
       "      <td>Nagpur</td>\n",
       "      <td>BCA/BE/B.Tech/BSc/CS</td>\n",
       "      <td>0 Years</td>\n",
       "      <td>06 Feb 23</td>\n",
       "      <td>https://www.freshersworld.com/jobs/software-de...</td>\n",
       "    </tr>\n",
       "    <tr>\n",
       "      <th>17</th>\n",
       "      <td>Software Developer</td>\n",
       "      <td>Nowri Technologies</td>\n",
       "      <td>Pune</td>\n",
       "      <td>BCA/BE/B.Tech/BSc/CS</td>\n",
       "      <td>0 Years</td>\n",
       "      <td>16 Mar 23</td>\n",
       "      <td>https://www.freshersworld.com/jobs/software-de...</td>\n",
       "    </tr>\n",
       "    <tr>\n",
       "      <th>18</th>\n",
       "      <td>Software Developer</td>\n",
       "      <td>ROMIO TECHNOLOGIES PVT LTD</td>\n",
       "      <td>Delhi</td>\n",
       "      <td>Any Graduate</td>\n",
       "      <td>0 Years</td>\n",
       "      <td>01 Feb 23</td>\n",
       "      <td>https://www.freshersworld.com/jobs/company/rom...</td>\n",
       "    </tr>\n",
       "    <tr>\n",
       "      <th>19</th>\n",
       "      <td>Software Developer</td>\n",
       "      <td>Sunline greensystem pvt.ltd</td>\n",
       "      <td>Pune</td>\n",
       "      <td>BCA/BE/B.Tech/BSc/MCA/CS</td>\n",
       "      <td>0 Years</td>\n",
       "      <td>05 Feb 23</td>\n",
       "      <td>https://www.freshersworld.com/jobs/software-de...</td>\n",
       "    </tr>\n",
       "    <tr>\n",
       "      <th>20</th>\n",
       "      <td>Software Developer - Java</td>\n",
       "      <td>Provatosoft Pvt Ltd</td>\n",
       "      <td>Pune</td>\n",
       "      <td>BCA/BE/B.Tech/MCA</td>\n",
       "      <td>3 Years</td>\n",
       "      <td>11 Mar 23</td>\n",
       "      <td>https://www.freshersworld.com/jobs/software-de...</td>\n",
       "    </tr>\n",
       "    <tr>\n",
       "      <th>21</th>\n",
       "      <td>Junior Software Developer</td>\n",
       "      <td>Raman Software</td>\n",
       "      <td>Ludhiana</td>\n",
       "      <td>BCA/BE/B.Tech/MCA</td>\n",
       "      <td>0 to 0.6 Years</td>\n",
       "      <td>03 Mar 23</td>\n",
       "      <td>https://www.freshersworld.com/jobs/junior-soft...</td>\n",
       "    </tr>\n",
       "    <tr>\n",
       "      <th>22</th>\n",
       "      <td>Junior Software Developer</td>\n",
       "      <td>A Client of Freshersworld</td>\n",
       "      <td>NaN</td>\n",
       "      <td>BCA/BE/B.Tech/BSc</td>\n",
       "      <td>0 Years</td>\n",
       "      <td>28 Feb 23</td>\n",
       "      <td>https://www.freshersworld.com/jobs/junior-soft...</td>\n",
       "    </tr>\n",
       "    <tr>\n",
       "      <th>23</th>\n",
       "      <td>Junior Software Developer</td>\n",
       "      <td>A Client of Freshersworld</td>\n",
       "      <td>Datia</td>\n",
       "      <td>BCA/BE/B.Tech/BSc</td>\n",
       "      <td>0 Years</td>\n",
       "      <td>28 Feb 23</td>\n",
       "      <td>https://www.freshersworld.com/jobs/junior-soft...</td>\n",
       "    </tr>\n",
       "    <tr>\n",
       "      <th>24</th>\n",
       "      <td>Junior Software Developer</td>\n",
       "      <td>A Client of Freshersworld</td>\n",
       "      <td>NaN</td>\n",
       "      <td>BCA/BE/B.Tech/BSc</td>\n",
       "      <td>0 Years</td>\n",
       "      <td>28 Feb 23</td>\n",
       "      <td>https://www.freshersworld.com/jobs/junior-soft...</td>\n",
       "    </tr>\n",
       "    <tr>\n",
       "      <th>25</th>\n",
       "      <td>Junior Software Developer</td>\n",
       "      <td>A Client of Freshersworld</td>\n",
       "      <td>Latur</td>\n",
       "      <td>BCA/BE/B.Tech/BSc</td>\n",
       "      <td>0 Years</td>\n",
       "      <td>28 Feb 23</td>\n",
       "      <td>https://www.freshersworld.com/jobs/junior-soft...</td>\n",
       "    </tr>\n",
       "    <tr>\n",
       "      <th>26</th>\n",
       "      <td>Junior Software Developer</td>\n",
       "      <td>A Client of Freshersworld</td>\n",
       "      <td>Jalgaon</td>\n",
       "      <td>BCA/BE/B.Tech/BSc</td>\n",
       "      <td>0 Years</td>\n",
       "      <td>28 Feb 23</td>\n",
       "      <td>https://www.freshersworld.com/jobs/junior-soft...</td>\n",
       "    </tr>\n",
       "    <tr>\n",
       "      <th>27</th>\n",
       "      <td>Junior Software Developer</td>\n",
       "      <td>A Client of Freshersworld</td>\n",
       "      <td>Shahdol</td>\n",
       "      <td>BCA/BE/B.Tech/BSc</td>\n",
       "      <td>0 Years</td>\n",
       "      <td>28 Feb 23</td>\n",
       "      <td>https://www.freshersworld.com/jobs/junior-soft...</td>\n",
       "    </tr>\n",
       "    <tr>\n",
       "      <th>28</th>\n",
       "      <td>Junior Software Developer</td>\n",
       "      <td>A Client of Freshersworld</td>\n",
       "      <td>NaN</td>\n",
       "      <td>BCA/BE/B.Tech/BSc</td>\n",
       "      <td>0 Years</td>\n",
       "      <td>28 Feb 23</td>\n",
       "      <td>https://www.freshersworld.com/jobs/junior-soft...</td>\n",
       "    </tr>\n",
       "    <tr>\n",
       "      <th>29</th>\n",
       "      <td>Junior Software Developer</td>\n",
       "      <td>A Client of Freshersworld</td>\n",
       "      <td>NaN</td>\n",
       "      <td>BCA/BE/B.Tech/BSc</td>\n",
       "      <td>0 Years</td>\n",
       "      <td>28 Feb 23</td>\n",
       "      <td>https://www.freshersworld.com/jobs/junior-soft...</td>\n",
       "    </tr>\n",
       "  </tbody>\n",
       "</table>\n",
       "</div>"
      ],
      "text/plain": [
       "                     job role                           company name  \\\n",
       "0          Software Developer                             AMC Career   \n",
       "1          Software Developer                    Corporate Resources   \n",
       "2          Software Developer       CloudEQ Software Private Limited   \n",
       "3          Software Developer             VoiceSnap Services Pvt Ltd   \n",
       "4          Software Developer            Zanthium Technosoft Pvt Ltd   \n",
       "5          Software Developer  Money Honey Financial Service Pvt Ltd   \n",
       "6          Software Developer                      Alchemy Solutions   \n",
       "7          Software Developer                         Forzo TechLabs   \n",
       "8          Software Developer                         Magneqsoftware   \n",
       "9          Software Developer    IESoft Technologies Private Limited   \n",
       "10         Software Developer                            Abundant AI   \n",
       "11         Software Developer                        Magneq software   \n",
       "12         Software Developer            Eogy Technologies Solutions   \n",
       "13         Software Developer                         AllEngineerJob   \n",
       "14         Software Developer                       Sandal Tree Soft   \n",
       "15         Software Developer                             WebRenvent   \n",
       "16         Software Developer         Percept Infosystem Consultants   \n",
       "17         Software Developer                     Nowri Technologies   \n",
       "18         Software Developer             ROMIO TECHNOLOGIES PVT LTD   \n",
       "19         Software Developer            Sunline greensystem pvt.ltd   \n",
       "20  Software Developer - Java                    Provatosoft Pvt Ltd   \n",
       "21  Junior Software Developer                         Raman Software   \n",
       "22  Junior Software Developer              A Client of Freshersworld   \n",
       "23  Junior Software Developer              A Client of Freshersworld   \n",
       "24  Junior Software Developer              A Client of Freshersworld   \n",
       "25  Junior Software Developer              A Client of Freshersworld   \n",
       "26  Junior Software Developer              A Client of Freshersworld   \n",
       "27  Junior Software Developer              A Client of Freshersworld   \n",
       "28  Junior Software Developer              A Client of Freshersworld   \n",
       "29  Junior Software Developer              A Client of Freshersworld   \n",
       "\n",
       "                   job location                     required qualification  \\\n",
       "0                          Pune                                  BE/B.Tech   \n",
       "1                     Bangalore                                  BE/B.Tech   \n",
       "2                    Chandigarh  BCA/BE/B.Tech/BSc/MCA/ME/M.Tech/CS/MS/MSc   \n",
       "3                       Chennai                       BCA/BE/B.Tech/BSc/CS   \n",
       "4                Noida/Rudrapur                BCA/BE/B.Tech/MCA/ME/M.Tech   \n",
       "5                        Mumbai                              BE/B.Tech/BSc   \n",
       "6                     Bangalore                          BCA/BE/B.Tech/MCA   \n",
       "7                       Chennai                  BCA/BE/B.Tech/BSc/MCA/MSc   \n",
       "8                     Hyderabad                BE/B.Tech/BSc/MCA/ME/M.Tech   \n",
       "9                           NaN                BCA/BE/B.Tech/MCA/ME/M.Tech   \n",
       "10                      Chennai                          BE/B.Tech/BSc/MCA   \n",
       "11                    Hyderabad                           BE/B.Tech/BSc/CS   \n",
       "12  Chandigarh/Ambala/Faridabad                                  BE/B.Tech   \n",
       "13                    Bangalore                                  BE/B.Tech   \n",
       "14        Bangalore/Mumbai/Pune                  BCA/BE/B.Tech/BSc/MCA/MSc   \n",
       "15                        Delhi                                    BCA/MCA   \n",
       "16                       Nagpur                       BCA/BE/B.Tech/BSc/CS   \n",
       "17                         Pune                       BCA/BE/B.Tech/BSc/CS   \n",
       "18                        Delhi                               Any Graduate   \n",
       "19                         Pune                   BCA/BE/B.Tech/BSc/MCA/CS   \n",
       "20                         Pune                          BCA/BE/B.Tech/MCA   \n",
       "21                     Ludhiana                          BCA/BE/B.Tech/MCA   \n",
       "22                          NaN                          BCA/BE/B.Tech/BSc   \n",
       "23                        Datia                          BCA/BE/B.Tech/BSc   \n",
       "24                          NaN                          BCA/BE/B.Tech/BSc   \n",
       "25                        Latur                          BCA/BE/B.Tech/BSc   \n",
       "26                      Jalgaon                          BCA/BE/B.Tech/BSc   \n",
       "27                      Shahdol                          BCA/BE/B.Tech/BSc   \n",
       "28                          NaN                          BCA/BE/B.Tech/BSc   \n",
       "29                          NaN                          BCA/BE/B.Tech/BSc   \n",
       "\n",
       "   experience required  last date  \\\n",
       "0              0 Years  18 Mar 23   \n",
       "1        0 to 3+ Years  04 Mar 23   \n",
       "2              0 Years  27 Feb 23   \n",
       "3              2 Years  24 Feb 23   \n",
       "4              0 Years  11 Feb 23   \n",
       "5              0 Years  13 Feb 23   \n",
       "6              0 Years  12 Feb 23   \n",
       "7         1 to 2 Years  05 Feb 23   \n",
       "8       0 to 0.6 Years  01 Feb 23   \n",
       "9              0 Years  17 Feb 23   \n",
       "10           2.5 Years  11 Feb 23   \n",
       "11             0 Years  07 Feb 23   \n",
       "12             0 Years  22 Jan 23   \n",
       "13        0 to 2 Years  20 Jan 23   \n",
       "14             0 Years  05 Mar 23   \n",
       "15       1 to 3+ Years  18 Feb 23   \n",
       "16             0 Years  06 Feb 23   \n",
       "17             0 Years  16 Mar 23   \n",
       "18             0 Years  01 Feb 23   \n",
       "19             0 Years  05 Feb 23   \n",
       "20             3 Years  11 Mar 23   \n",
       "21      0 to 0.6 Years  03 Mar 23   \n",
       "22             0 Years  28 Feb 23   \n",
       "23             0 Years  28 Feb 23   \n",
       "24             0 Years  28 Feb 23   \n",
       "25             0 Years  28 Feb 23   \n",
       "26             0 Years  28 Feb 23   \n",
       "27             0 Years  28 Feb 23   \n",
       "28             0 Years  28 Feb 23   \n",
       "29             0 Years  28 Feb 23   \n",
       "\n",
       "                                           apply link  \n",
       "0   https://www.freshersworld.com/jobs/software-de...  \n",
       "1   https://www.freshersworld.com/jobs/software-de...  \n",
       "2   https://www.freshersworld.com/jobs/software-de...  \n",
       "3   https://www.freshersworld.com/jobs/software-de...  \n",
       "4   https://www.freshersworld.com/jobs/software-de...  \n",
       "5   https://www.freshersworld.com/jobs/software-de...  \n",
       "6   https://www.freshersworld.com/jobs/software-de...  \n",
       "7   https://www.freshersworld.com/jobs/software-de...  \n",
       "8   https://www.freshersworld.com/jobs/software-de...  \n",
       "9   https://www.freshersworld.com/jobs/company/ies...  \n",
       "10  https://www.freshersworld.com/jobs/software-de...  \n",
       "11  https://www.freshersworld.com/jobs/software-de...  \n",
       "12  https://www.freshersworld.com/jobs/software-de...  \n",
       "13  https://www.freshersworld.com/jobs/software-de...  \n",
       "14  https://www.freshersworld.com/jobs/software-de...  \n",
       "15  https://www.freshersworld.com/jobs/software-de...  \n",
       "16  https://www.freshersworld.com/jobs/software-de...  \n",
       "17  https://www.freshersworld.com/jobs/software-de...  \n",
       "18  https://www.freshersworld.com/jobs/company/rom...  \n",
       "19  https://www.freshersworld.com/jobs/software-de...  \n",
       "20  https://www.freshersworld.com/jobs/software-de...  \n",
       "21  https://www.freshersworld.com/jobs/junior-soft...  \n",
       "22  https://www.freshersworld.com/jobs/junior-soft...  \n",
       "23  https://www.freshersworld.com/jobs/junior-soft...  \n",
       "24  https://www.freshersworld.com/jobs/junior-soft...  \n",
       "25  https://www.freshersworld.com/jobs/junior-soft...  \n",
       "26  https://www.freshersworld.com/jobs/junior-soft...  \n",
       "27  https://www.freshersworld.com/jobs/junior-soft...  \n",
       "28  https://www.freshersworld.com/jobs/junior-soft...  \n",
       "29  https://www.freshersworld.com/jobs/junior-soft...  "
      ]
     },
     "execution_count": 53,
     "metadata": {},
     "output_type": "execute_result"
    }
   ],
   "source": [
    "pd.read_csv('Software Developer.csv')"
   ]
  },
  {
   "cell_type": "markdown",
   "metadata": {},
   "source": [
    "Let's create a data for top 5 job openings with high demand"
   ]
  },
  {
   "cell_type": "code",
   "execution_count": 54,
   "metadata": {},
   "outputs": [
    {
     "name": "stdout",
     "output_type": "stream",
     "text": [
      "Jobs for \"Data Analyst\" written to file \"Data Analyst.csv\"\n",
      "Jobs for \"Data Scientist\" written to file \"Data Scientist.csv\"\n",
      "Jobs for \"Software Developer\" written to file \"Software Developer.csv\"\n",
      "Jobs for \"Digital Marketing\" written to file \"Digital Marketing.csv\"\n",
      "Jobs for \"Customer Service\" written to file \"Customer Service.csv\"\n"
     ]
    }
   ],
   "source": [
    "top_jobs_list=['Data Analyst','Data Scientist','Software Developer','Digital Marketing','Customer Service']\n",
    "csv_files=[scrape_job(jobs)for jobs in top_jobs_list]"
   ]
  },
  {
   "cell_type": "markdown",
   "metadata": {},
   "source": [
    "Now we'll combine all the files in a single csv file "
   ]
  },
  {
   "cell_type": "code",
   "execution_count": 55,
   "metadata": {},
   "outputs": [],
   "source": [
    "df = pd.DataFrame()\n",
    "#append all files together\n",
    "for file in csv_files:\n",
    "            df_temp = pd.read_csv(file)\n",
    "            df = df.append(df_temp, ignore_index=True)\n",
    "df.to_csv('Top Jobs.csv',index=False)"
   ]
  },
  {
   "cell_type": "code",
   "execution_count": 56,
   "metadata": {},
   "outputs": [
    {
     "data": {
      "text/html": [
       "<div>\n",
       "<style scoped>\n",
       "    .dataframe tbody tr th:only-of-type {\n",
       "        vertical-align: middle;\n",
       "    }\n",
       "\n",
       "    .dataframe tbody tr th {\n",
       "        vertical-align: top;\n",
       "    }\n",
       "\n",
       "    .dataframe thead th {\n",
       "        text-align: right;\n",
       "    }\n",
       "</style>\n",
       "<table border=\"1\" class=\"dataframe\">\n",
       "  <thead>\n",
       "    <tr style=\"text-align: right;\">\n",
       "      <th></th>\n",
       "      <th>job role</th>\n",
       "      <th>company name</th>\n",
       "      <th>job location</th>\n",
       "      <th>required qualification</th>\n",
       "      <th>experience required</th>\n",
       "      <th>last date</th>\n",
       "      <th>apply link</th>\n",
       "    </tr>\n",
       "  </thead>\n",
       "  <tbody>\n",
       "    <tr>\n",
       "      <th>0</th>\n",
       "      <td>Data Analyst</td>\n",
       "      <td>CAW Studios</td>\n",
       "      <td>Hyderabad/Bangalore</td>\n",
       "      <td>BE/B.Tech/ME/M.Tech/CS/MS</td>\n",
       "      <td>2 Years</td>\n",
       "      <td>26 Feb 23</td>\n",
       "      <td>https://www.freshersworld.com/jobs/data-analys...</td>\n",
       "    </tr>\n",
       "    <tr>\n",
       "      <th>1</th>\n",
       "      <td>Data Analyst</td>\n",
       "      <td>AMC Career</td>\n",
       "      <td>Pune</td>\n",
       "      <td>BE/B.Tech</td>\n",
       "      <td>0 Years</td>\n",
       "      <td>17 Mar 23</td>\n",
       "      <td>https://www.freshersworld.com/jobs/data-analys...</td>\n",
       "    </tr>\n",
       "    <tr>\n",
       "      <th>2</th>\n",
       "      <td>Data Analyst</td>\n",
       "      <td>Lets Viz Technologies</td>\n",
       "      <td>Delhi</td>\n",
       "      <td>BCA/BE/B.Tech/BSc</td>\n",
       "      <td>0 Years</td>\n",
       "      <td>12 Feb 23</td>\n",
       "      <td>https://www.freshersworld.com/jobs/data-analys...</td>\n",
       "    </tr>\n",
       "    <tr>\n",
       "      <th>3</th>\n",
       "      <td>IT Business Analyst</td>\n",
       "      <td>Yes IT Lab</td>\n",
       "      <td>Delhi/Noida</td>\n",
       "      <td>Certificate Course (ITI)/BCA/BE/B.Tech/MBA/PGD...</td>\n",
       "      <td>0 Years</td>\n",
       "      <td>06 Mar 23</td>\n",
       "      <td>https://www.freshersworld.com/jobs/it-business...</td>\n",
       "    </tr>\n",
       "    <tr>\n",
       "      <th>4</th>\n",
       "      <td>Data Scientist</td>\n",
       "      <td>Atlassian</td>\n",
       "      <td>Bangalore</td>\n",
       "      <td>BCA/BE/B.Tech/MCA/ME/M.Tech</td>\n",
       "      <td>0 to 3+ Years</td>\n",
       "      <td>22 Jan 23</td>\n",
       "      <td>https://www.freshersworld.com/jobs/data-scient...</td>\n",
       "    </tr>\n",
       "    <tr>\n",
       "      <th>...</th>\n",
       "      <td>...</td>\n",
       "      <td>...</td>\n",
       "      <td>...</td>\n",
       "      <td>...</td>\n",
       "      <td>...</td>\n",
       "      <td>...</td>\n",
       "      <td>...</td>\n",
       "    </tr>\n",
       "    <tr>\n",
       "      <th>95</th>\n",
       "      <td>Customer Support Service</td>\n",
       "      <td>Client Of Teamlease Service Ltd</td>\n",
       "      <td>Mumbai</td>\n",
       "      <td>Diploma/B.Com/BA/MA/BBA/BBM/BSc/12th Pass (HSE)</td>\n",
       "      <td>0 Years</td>\n",
       "      <td>16 Feb 23</td>\n",
       "      <td>https://www.freshersworld.com/jobs/customer-su...</td>\n",
       "    </tr>\n",
       "    <tr>\n",
       "      <th>96</th>\n",
       "      <td>Customer Support Service</td>\n",
       "      <td>Client Of Teamlease Service Ltd</td>\n",
       "      <td>Mumbai</td>\n",
       "      <td>Diploma/B.Com/BA/MA/BBA/BBM/BSc/12th Pass (HSE)</td>\n",
       "      <td>0 Years</td>\n",
       "      <td>16 Feb 23</td>\n",
       "      <td>https://www.freshersworld.com/jobs/customer-su...</td>\n",
       "    </tr>\n",
       "    <tr>\n",
       "      <th>97</th>\n",
       "      <td>Customer Support Service</td>\n",
       "      <td>Client Of Teamlease Service Ltd</td>\n",
       "      <td>Mumbai</td>\n",
       "      <td>Diploma/B.Com/BA/MA/BBA/BBM/BSc/12th Pass (HSE)</td>\n",
       "      <td>0 Years</td>\n",
       "      <td>16 Feb 23</td>\n",
       "      <td>https://www.freshersworld.com/jobs/customer-su...</td>\n",
       "    </tr>\n",
       "    <tr>\n",
       "      <th>98</th>\n",
       "      <td>Customer Support Service</td>\n",
       "      <td>Client Of Teamlease Service Ltd</td>\n",
       "      <td>Mumbai</td>\n",
       "      <td>Diploma/B.Com/BA/MA/BBA/BBM/BSc/12th Pass (HSE)</td>\n",
       "      <td>0 Years</td>\n",
       "      <td>16 Feb 23</td>\n",
       "      <td>https://www.freshersworld.com/jobs/customer-su...</td>\n",
       "    </tr>\n",
       "    <tr>\n",
       "      <th>99</th>\n",
       "      <td>Customer Support Service</td>\n",
       "      <td>Client Of Teamlease Service Ltd</td>\n",
       "      <td>Mumbai</td>\n",
       "      <td>Diploma/B.Com/BA/MA/BBA/BBM/BSc/12th Pass (HSE)</td>\n",
       "      <td>0 Years</td>\n",
       "      <td>16 Feb 23</td>\n",
       "      <td>https://www.freshersworld.com/jobs/customer-su...</td>\n",
       "    </tr>\n",
       "  </tbody>\n",
       "</table>\n",
       "<p>100 rows × 7 columns</p>\n",
       "</div>"
      ],
      "text/plain": [
       "                    job role                     company name  \\\n",
       "0               Data Analyst                      CAW Studios   \n",
       "1               Data Analyst                       AMC Career   \n",
       "2               Data Analyst            Lets Viz Technologies   \n",
       "3        IT Business Analyst                       Yes IT Lab   \n",
       "4             Data Scientist                        Atlassian   \n",
       "..                       ...                              ...   \n",
       "95  Customer Support Service  Client Of Teamlease Service Ltd   \n",
       "96  Customer Support Service  Client Of Teamlease Service Ltd   \n",
       "97  Customer Support Service  Client Of Teamlease Service Ltd   \n",
       "98  Customer Support Service  Client Of Teamlease Service Ltd   \n",
       "99  Customer Support Service  Client Of Teamlease Service Ltd   \n",
       "\n",
       "           job location                             required qualification  \\\n",
       "0   Hyderabad/Bangalore                          BE/B.Tech/ME/M.Tech/CS/MS   \n",
       "1                  Pune                                          BE/B.Tech   \n",
       "2                 Delhi                                  BCA/BE/B.Tech/BSc   \n",
       "3           Delhi/Noida  Certificate Course (ITI)/BCA/BE/B.Tech/MBA/PGD...   \n",
       "4             Bangalore                        BCA/BE/B.Tech/MCA/ME/M.Tech   \n",
       "..                  ...                                                ...   \n",
       "95               Mumbai    Diploma/B.Com/BA/MA/BBA/BBM/BSc/12th Pass (HSE)   \n",
       "96               Mumbai    Diploma/B.Com/BA/MA/BBA/BBM/BSc/12th Pass (HSE)   \n",
       "97               Mumbai    Diploma/B.Com/BA/MA/BBA/BBM/BSc/12th Pass (HSE)   \n",
       "98               Mumbai    Diploma/B.Com/BA/MA/BBA/BBM/BSc/12th Pass (HSE)   \n",
       "99               Mumbai    Diploma/B.Com/BA/MA/BBA/BBM/BSc/12th Pass (HSE)   \n",
       "\n",
       "   experience required  last date  \\\n",
       "0              2 Years  26 Feb 23   \n",
       "1              0 Years  17 Mar 23   \n",
       "2              0 Years  12 Feb 23   \n",
       "3              0 Years  06 Mar 23   \n",
       "4        0 to 3+ Years  22 Jan 23   \n",
       "..                 ...        ...   \n",
       "95             0 Years  16 Feb 23   \n",
       "96             0 Years  16 Feb 23   \n",
       "97             0 Years  16 Feb 23   \n",
       "98             0 Years  16 Feb 23   \n",
       "99             0 Years  16 Feb 23   \n",
       "\n",
       "                                           apply link  \n",
       "0   https://www.freshersworld.com/jobs/data-analys...  \n",
       "1   https://www.freshersworld.com/jobs/data-analys...  \n",
       "2   https://www.freshersworld.com/jobs/data-analys...  \n",
       "3   https://www.freshersworld.com/jobs/it-business...  \n",
       "4   https://www.freshersworld.com/jobs/data-scient...  \n",
       "..                                                ...  \n",
       "95  https://www.freshersworld.com/jobs/customer-su...  \n",
       "96  https://www.freshersworld.com/jobs/customer-su...  \n",
       "97  https://www.freshersworld.com/jobs/customer-su...  \n",
       "98  https://www.freshersworld.com/jobs/customer-su...  \n",
       "99  https://www.freshersworld.com/jobs/customer-su...  \n",
       "\n",
       "[100 rows x 7 columns]"
      ]
     },
     "execution_count": 56,
     "metadata": {},
     "output_type": "execute_result"
    }
   ],
   "source": [
    "pd.read_csv('Top Jobs.csv')"
   ]
  },
  {
   "cell_type": "markdown",
   "metadata": {},
   "source": [
    "## Summary"
   ]
  },
  {
   "cell_type": "markdown",
   "metadata": {},
   "source": [
    "Here is what we covered in this notebook:\n",
    "\n",
    "1. Download the webpage using `requests`\n",
    "2. Parse the HTML source code using `beautiful soup`\n",
    "3. Extract Blog name, author name, published date and blog URLs from webpage\n",
    "4. Compile extracted information using Python lists\n",
    "5. Save the extracted information to a CSV file.\n",
    "\n",
    "The CSV file which will be created will have the following format:\n",
    "```\n",
    "  job role,company name,job location,required qualification,experience required,last date,apply link\n",
    " Data Analyst,CAW Studios,Hyderabad/Bangalore,BE/B.Tech/ME/M.Tech/CS/MS,2 Years,26 Feb 23,https://www.freshersworld.com/jobs/data-analyst-jobs-opening-in-caw-studios-at-gachibowli-bangalore-hyderabad-1667559\n",
    " ....\n",
    "```"
   ]
  },
  {
   "cell_type": "markdown",
   "metadata": {},
   "source": [
    "## Future Work"
   ]
  },
  {
   "cell_type": "markdown",
   "metadata": {},
   "source": [
    "* We can fetch the details about companies which are posting jobs in the portal.\n",
    "* We can fetch the details about which job profile have most number of openings.\n",
    "* we can analyze which skillset are asked in most jobs."
   ]
  },
  {
   "cell_type": "markdown",
   "metadata": {},
   "source": [
    "## References"
   ]
  },
  {
   "cell_type": "markdown",
   "metadata": {},
   "source": [
    "1. https://requests.readthedocs.io/en/latest/\n",
    "2. https://www.crummy.com/software/BeautifulSoup/bs4/doc/\n",
    "3. https://www.freshersworld.com/\n",
    "4. https://stackoverflow.com/questions/2136267/beautiful-soup-and-extracting-a-div-and-its-contents-by-id"
   ]
  },
  {
   "cell_type": "code",
   "execution_count": 58,
   "metadata": {},
   "outputs": [
    {
     "data": {
      "application/javascript": [
       "window.require && require([\"base/js/namespace\"],function(Jupyter){Jupyter.notebook.save_checkpoint()})"
      ],
      "text/plain": [
       "<IPython.core.display.Javascript object>"
      ]
     },
     "metadata": {},
     "output_type": "display_data"
    },
    {
     "name": "stdout",
     "output_type": "stream",
     "text": [
      "[jovian] Updating notebook \"yatinsammal/scraping-job-portal\" on https://jovian.com\u001b[0m\n",
      "[jovian] Uploading additional files...\u001b[0m\n",
      "[jovian] Committed successfully! https://jovian.com/yatinsammal/scraping-job-portal\u001b[0m\n"
     ]
    },
    {
     "data": {
      "text/plain": [
       "'https://jovian.com/yatinsammal/scraping-job-portal'"
      ]
     },
     "execution_count": 58,
     "metadata": {},
     "output_type": "execute_result"
    }
   ],
   "source": [
    "jovian.commit(project = project_name, files = ['Top Jobs.csv'])"
   ]
  },
  {
   "cell_type": "code",
   "execution_count": null,
   "metadata": {},
   "outputs": [],
   "source": []
  }
 ],
 "metadata": {
  "kernelspec": {
   "display_name": "Python 3 (ipykernel)",
   "language": "python",
   "name": "python3"
  },
  "language_info": {
   "codemirror_mode": {
    "name": "ipython",
    "version": 3
   },
   "file_extension": ".py",
   "mimetype": "text/x-python",
   "name": "python",
   "nbconvert_exporter": "python",
   "pygments_lexer": "ipython3",
   "version": "3.9.7"
  }
 },
 "nbformat": 4,
 "nbformat_minor": 2
}
